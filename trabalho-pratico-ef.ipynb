{
  "nbformat": 4,
  "nbformat_minor": 0,
  "metadata": {
    "colab": {
      "name": "TrabalhoPráticoEF.ipynb",
      "provenance": [],
      "collapsed_sections": [
        "tK7eUvo_RF_7"
      ]
    },
    "kernelspec": {
      "name": "python3",
      "display_name": "Python 3"
    },
    "language_info": {
      "name": "python"
    }
  },
  "cells": [
    {
      "cell_type": "markdown",
      "source": [
        "#Arthur Valls da Costa Silva (120177470)\n",
        "\n",
        "#Julia Turazzi Almeida (120188861)"
      ],
      "metadata": {
        "id": "-6BSoUXhRGLU"
      }
    },
    {
      "cell_type": "markdown",
      "source": [
        "#Imports:"
      ],
      "metadata": {
        "id": "tK7eUvo_RF_7"
      }
    },
    {
      "cell_type": "code",
      "source": [
        "import numpy as np\n",
        "from scipy.linalg import solve\n",
        "from numpy import array, zeros, diag, diagflat, dot\n",
        "import sys\n",
        "import sympy as sym\n",
        "import matplotlib.pyplot as plt\n",
        "import math"
      ],
      "metadata": {
        "id": "ydzBDigaycOG"
      },
      "execution_count": null,
      "outputs": []
    },
    {
      "cell_type": "markdown",
      "source": [
        "#1.2"
      ],
      "metadata": {
        "id": "94MznwEwDcLt"
      }
    },
    {
      "cell_type": "code",
      "source": [
        "# Método de Gauss\n",
        "def eliminacao_gaussiana(A,b):\n",
        "  n = A.shape[0]\n",
        "  x = np.zeros(n)\n",
        "  a = np.zeros((n, n+1))\n",
        "  \n",
        "  for i in range(n):\n",
        "    a[:,i] = A[:,i]\n",
        "  \n",
        "  a[:,n] = b.T\n",
        "\n",
        "  # eliminacao gaussiana\n",
        "  for i in range(n):\n",
        "      if a[i][i] == 0.0:\n",
        "          sys.exit()\n",
        "          \n",
        "      for j in range(i+1, n):\n",
        "          ratio = a[j][i]/a[i][i]\n",
        "          \n",
        "          for k in range(n+1):\n",
        "              a[j][k] = a[j][k] - ratio * a[i][k]\n",
        "\n",
        "  # retro-substituição\n",
        "  x[n-1] = a[n-1][n]/a[n-1][n-1]\n",
        "\n",
        "  for i in range(n-2,-1,-1):\n",
        "      x[i] = a[i][n]\n",
        "      \n",
        "      for j in range(i+1,n):\n",
        "          x[i] = x[i] - a[i][j]*x[j]\n",
        "      \n",
        "      x[i] = x[i]/a[i][i]\n",
        "\n",
        "  return x"
      ],
      "metadata": {
        "id": "PywK7kvjDb_6"
      },
      "execution_count": null,
      "outputs": []
    },
    {
      "cell_type": "markdown",
      "source": [
        "Substituindo pelas varíaveis fornecidas na questão, temos:"
      ],
      "metadata": {
        "id": "5l6eRVtYFqdb"
      }
    },
    {
      "cell_type": "code",
      "source": [
        "U = 67967200 \n",
        "K = 35 \n",
        "L = 0.025 \n",
        "T_infinito = 293.15 \n",
        "h = 0.005 \n",
        "\n",
        "# Para calcular a discretização:\n",
        "n = L/ h"
      ],
      "metadata": {
        "id": "Wf7Q_1e7D_pN"
      },
      "execution_count": null,
      "outputs": []
    },
    {
      "cell_type": "code",
      "source": [
        "b_var = ((-h**2) * (U/ K))"
      ],
      "metadata": {
        "id": "wVhn5aXKFos7"
      },
      "execution_count": null,
      "outputs": []
    },
    {
      "cell_type": "code",
      "source": [
        "# Função para solução analítica\n",
        "def funcao_analitica(x):\n",
        "  return T_infinito + ((U* (L**2))/ (2 * K)) * (1 - (x/ L)**2)"
      ],
      "metadata": {
        "id": "aMhGSzvPEL1c"
      },
      "execution_count": null,
      "outputs": []
    },
    {
      "cell_type": "code",
      "source": [
        "# Matriz A\n",
        "A = np.array([[-2, 2, 0, 0, 0], \n",
        "              [1, -2, 1 ,0, 0], \n",
        "              [0, 1, -2, 1, 0], \n",
        "              [0, 0, 1, -2, 1], \n",
        "              [0, 0, 0, 1, -2]])"
      ],
      "metadata": {
        "id": "E6nWA3HFyUv8"
      },
      "execution_count": null,
      "outputs": []
    },
    {
      "cell_type": "code",
      "source": [
        "# Vetor B\n",
        "b = np.array([b_var, b_var, b_var, b_var, \n",
        "              b_var - T_infinito])"
      ],
      "metadata": {
        "id": "bUdtSkyzQjat"
      },
      "execution_count": null,
      "outputs": []
    },
    {
      "cell_type": "code",
      "source": [
        "eliminacao_gaussiana(A, b)"
      ],
      "metadata": {
        "colab": {
          "base_uri": "https://localhost:8080/"
        },
        "id": "xw5_Te6_MHqb",
        "outputId": "91a28103-c26e-45c5-b882-2bc8edebec28"
      },
      "execution_count": null,
      "outputs": [
        {
          "output_type": "execute_result",
          "data": {
            "text/plain": [
              "array([900.   , 875.726, 802.904, 681.534, 511.616])"
            ]
          },
          "metadata": {},
          "execution_count": 288
        }
      ]
    },
    {
      "cell_type": "code",
      "source": [
        "solucao_analitica = [funcao_analitica(0), \n",
        "                     funcao_analitica(h), \n",
        "                     funcao_analitica(2 * h), \n",
        "                     funcao_analitica(3 * h), \n",
        "                     funcao_analitica(4 * h)]"
      ],
      "metadata": {
        "id": "7pcGLjaXGXON"
      },
      "execution_count": null,
      "outputs": []
    },
    {
      "cell_type": "code",
      "source": [
        "# Imprimindo a solução analítica\n",
        "solucao_analitica"
      ],
      "metadata": {
        "colab": {
          "base_uri": "https://localhost:8080/"
        },
        "id": "d_e_WQ49HuHJ",
        "outputId": "dc6aedd4-9048-4a03-8f77-e7f58b43a4cb"
      },
      "execution_count": null,
      "outputs": [
        {
          "output_type": "execute_result",
          "data": {
            "text/plain": [
              "[900.0000000000001,\n",
              " 875.7260000000001,\n",
              " 802.9040000000002,\n",
              " 681.5340000000001,\n",
              " 511.6160000000001]"
            ]
          },
          "metadata": {},
          "execution_count": 290
        }
      ]
    },
    {
      "cell_type": "code",
      "source": [
        "# Plotando o gráfico de ambas as funções\n",
        "plt.plot(eliminacao_gaussiana(A, b), '-c', linestyle ='solid', label = \"Eliminação Gaussiana\", markersize = 3)\n",
        "plt.plot(solucao_analitica, '-m', linestyle ='solid', label = \"Solução Analítica\", markersize = 3)\n",
        "\n",
        "plt.title('Comparação entre as soluções')\n",
        "plt.legend()\n",
        "plt.grid(False)\n",
        "\n",
        "\n",
        "plt.show()"
      ],
      "metadata": {
        "colab": {
          "base_uri": "https://localhost:8080/",
          "height": 281
        },
        "id": "nsm3GxvWH-Hg",
        "outputId": "459aaa62-83ef-41c1-fe1a-2ed284307690"
      },
      "execution_count": null,
      "outputs": [
        {
          "output_type": "display_data",
          "data": {
            "text/plain": [
              "<Figure size 432x288 with 1 Axes>"
            ],
            "image/png": "[encoded data removed]"
          },
          "metadata": {
            "needs_background": "light"
          }
        }
      ]
    },
    {
      "cell_type": "markdown",
      "source": [
        "#1.3\n",
        "\n",
        "Para ser possível calcular o erro, utilizaremos além da Eliminação Gaussiana, o Método de Gauss-Jacobi."
      ],
      "metadata": {
        "id": "fZs5afaIKCas"
      }
    },
    {
      "cell_type": "code",
      "execution_count": null,
      "metadata": {
        "id": "12Cfri2NyNKA"
      },
      "outputs": [],
      "source": [
        "# Método de Gauss-Jacobi \n",
        "def gauss_jacobi(A, b, n):\n",
        "    \n",
        "    x = zeros(len(A[0]))\n",
        "    D = np.diag(A)\n",
        "    R = A - np.diagflat(D)\n",
        "\n",
        "    for i in range(n):\n",
        "      x = (b - np.dot(R,x))/ D\n",
        "\n",
        "    return x"
      ]
    },
    {
      "cell_type": "code",
      "source": [
        "solucao_gj = gauss_jacobi(A, b, 300)"
      ],
      "metadata": {
        "id": "4o3qbWaZKTO-"
      },
      "execution_count": null,
      "outputs": []
    },
    {
      "cell_type": "code",
      "source": [
        "solucao_gj"
      ],
      "metadata": {
        "colab": {
          "base_uri": "https://localhost:8080/"
        },
        "id": "Y7SzQxvKLxx2",
        "outputId": "d61c5bf7-94da-428f-f364-e3c05b08f53d"
      },
      "execution_count": null,
      "outputs": [
        {
          "output_type": "execute_result",
          "data": {
            "text/plain": [
              "array([899.99970856, 875.72572816, 802.90376422, 681.53383199,\n",
              "       511.61590994])"
            ]
          },
          "metadata": {},
          "execution_count": 294
        }
      ]
    },
    {
      "cell_type": "markdown",
      "source": [
        "Calculando o erro relativo entre a solução analítica e o método de Gauss-Jacobi: "
      ],
      "metadata": {
        "id": "B_lrckPsMQ7V"
      }
    },
    {
      "cell_type": "code",
      "source": [
        "erro_rel1 = abs(solucao_gj[0] - solucao_analitica[0])/ abs(solucao_analitica[0])\n",
        "erro_rel2 = abs(solucao_gj[1] - solucao_analitica[1])/ abs(solucao_analitica[1])\n",
        "erro_rel3 = abs(solucao_gj[2] - solucao_analitica[2])/ abs(solucao_analitica[2])\n",
        "erro_rel4 = abs(solucao_gj[3] - solucao_analitica[3])/ abs(solucao_analitica[3])\n",
        "erro_rel5 = abs(solucao_gj[4] - solucao_analitica[4])/ abs(solucao_analitica[4])"
      ],
      "metadata": {
        "id": "UL_0-1XvL91c"
      },
      "execution_count": null,
      "outputs": []
    },
    {
      "cell_type": "code",
      "source": [
        "erro_relativo_total =[erro_rel1,\n",
        "                      erro_rel2,\n",
        "                      erro_rel3,\n",
        "                      erro_rel4,\n",
        "                      erro_rel5]"
      ],
      "metadata": {
        "id": "NaeARBp3M3SD"
      },
      "execution_count": null,
      "outputs": []
    },
    {
      "cell_type": "code",
      "source": [
        "erro_relativo_total"
      ],
      "metadata": {
        "colab": {
          "base_uri": "https://localhost:8080/"
        },
        "id": "Omvb9-hCNsDC",
        "outputId": "062ecc35-889b-434b-aabe-ceb4e324dcb9"
      },
      "execution_count": null,
      "outputs": [
        {
          "output_type": "execute_result",
          "data": {
            "text/plain": [
              "[3.238237827139932e-07,\n",
              " 3.104209312956712e-07,\n",
              " 2.9366032443178924e-07,\n",
              " 2.465154111238068e-07,\n",
              " 1.7603113840514054e-07]"
            ]
          },
          "metadata": {},
          "execution_count": 297
        }
      ]
    },
    {
      "cell_type": "code",
      "source": [
        "# Plotando o gráfico do erro relativo\n",
        "plt.plot(erro_relativo_total, '-r', linestyle ='solid', label = \"Erro relativo\", markersize = 3)\n",
        "\n",
        "plt.title('Erro relativo: Solução Analítica e Gauss-Jacobi')\n",
        "plt.grid(False)\n",
        "\n",
        "plt.show()"
      ],
      "metadata": {
        "colab": {
          "base_uri": "https://localhost:8080/",
          "height": 281
        },
        "id": "yVuACTKDO_s-",
        "outputId": "3722e2c3-b9e1-4e69-f310-e6d0e3b23262"
      },
      "execution_count": null,
      "outputs": [
        {
          "output_type": "display_data",
          "data": {
            "text/plain": [
              "<Figure size 432x288 with 1 Axes>"
            ],
            "image/png": "[encoded data removed]"
          },
          "metadata": {
            "needs_background": "light"
          }
        }
      ]
    }
  ]
}