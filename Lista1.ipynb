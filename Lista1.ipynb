{
  "nbformat": 4,
  "nbformat_minor": 0,
  "metadata": {
    "colab": {
      "name": "Lista1.ipynb",
      "provenance": [],
      "collapsed_sections": [
        "Ioq4vU-PQk4Q",
        "pv1llUhfLVL2",
        "unQOCQ14QVe6",
        "s8Gb9vGtRh21",
        "4h_P3RvrSg85",
        "LliwX-WVSo_1",
        "8BUlKjnp8Leq",
        "WGg-dXrz8WSG",
        "nNWhCS2e9FhY",
        "WhQlVZUm9gJo",
        "Jm2LSOOr-Pc3",
        "OSWTuH3Ow45F",
        "beSWwhovU_Af",
        "HQVkeTHcVP8D",
        "XWxzxdXvVWaO"
      ]
    },
    "kernelspec": {
      "name": "python3",
      "display_name": "Python 3"
    },
    "language_info": {
      "name": "python"
    }
  },
  "cells": [
    {
      "cell_type": "markdown",
      "source": [
        "#***Lista de exercícios de raízes*** <br>\n",
        "\n",
        "---\n",
        "\n",
        "**Nome:** Julia Turazzi Almeida <br>\n",
        "**DRE:** 120188861"
      ],
      "metadata": {
        "id": "41WL1m-hQr-2"
      }
    },
    {
      "cell_type": "markdown",
      "source": [
        "#Imports:\n",
        "---"
      ],
      "metadata": {
        "id": "Ioq4vU-PQk4Q"
      }
    },
    {
      "cell_type": "code",
      "source": [
        "import sympy as sym\n",
        "import numpy as np\n",
        "import math"
      ],
      "metadata": {
        "id": "yiI2b2-7Mdwf"
      },
      "execution_count": null,
      "outputs": []
    },
    {
      "cell_type": "markdown",
      "source": [
        "#Definição das funções:\n",
        "---\n",
        "\n"
      ],
      "metadata": {
        "id": "pv1llUhfLVL2"
      }
    },
    {
      "cell_type": "code",
      "source": [
        "erro = 0.0000001\n",
        "\n",
        "def funcao(x): \n",
        "  return (x * (math.log(x, 10)) -1)\n",
        "\n",
        "def derivada(x):\n",
        "  return math.log(x,10) + (1/ math.log(10))\n",
        "\n",
        "\n",
        "def funcao_questao3(x):\n",
        "  return x**3 - 2*x + 2\n",
        "\n",
        "def derivada_questao3(x):\n",
        "  return 3*(x**2) - 2\n",
        "\n",
        "\n",
        "def funcao_questao4(x):\n",
        "  return x**2 - 3\n",
        "\n",
        "def derivada_questao4(x):\n",
        "  return 2*x"
      ],
      "metadata": {
        "id": "xACuKrvMLVwK"
      },
      "execution_count": null,
      "outputs": []
    },
    {
      "cell_type": "markdown",
      "source": [
        "#Questão 1:\n",
        "\n",
        "---\n",
        "\n"
      ],
      "metadata": {
        "id": "sGs9GRB9-d4u"
      }
    },
    {
      "cell_type": "markdown",
      "source": [
        "Método da Bisseção:\n",
        "---\n",
        "\n"
      ],
      "metadata": {
        "id": "unQOCQ14QVe6"
      }
    },
    {
      "cell_type": "code",
      "execution_count": null,
      "metadata": {
        "id": "yCi2EbcNK5l8"
      },
      "outputs": [],
      "source": [
        "def bissecao(intervalo_p1, intervalo_p2) :\n",
        "\n",
        "    x0 = intervalo_p1\n",
        "    x1 = intervalo_p2\n",
        "\n",
        "    ninteracoes = 0\n",
        "    parada = True\n",
        "\n",
        "    while parada:\n",
        "        raiz = (x0 + x1)/2    \n",
        "        ninteracoes = ninteracoes + 1\n",
        "        \n",
        "        if funcao(raiz) == 0:\n",
        "            print(\"Solução única:\")\n",
        "            return raiz\n",
        "        \n",
        "        elif funcao(x0) * funcao(raiz) < 0:\n",
        "            x0 = x0\n",
        "            x1 = raiz\n",
        "       \n",
        "        elif funcao(x1) * funcao(raiz) < 0:\n",
        "            x0 = raiz\n",
        "            x1 = x1\n",
        "       \n",
        "        else:\n",
        "            return None\n",
        "\n",
        "        parada = abs(funcao(raiz)) > erro\n",
        "    \n",
        "        solucao = (x0 + x1) / 2\n",
        "\n",
        "\n",
        "    if funcao(intervalo_p1) * funcao(intervalo_p2) >= 0:\n",
        "        return None\n",
        "        \n",
        "\n",
        "    print('Raíz da função: {}'.format(solucao))"
      ]
    },
    {
      "cell_type": "code",
      "source": [
        "bissecao(2, 3)"
      ],
      "metadata": {
        "id": "oe6_T9amM_Re",
        "outputId": "bafd432a-2341-4db6-c75c-30ea952da2ee",
        "colab": {
          "base_uri": "https://localhost:8080/"
        }
      },
      "execution_count": null,
      "outputs": [
        {
          "output_type": "stream",
          "name": "stdout",
          "text": [
            "Raíz da função: 2.5061843395233154\n"
          ]
        }
      ]
    },
    {
      "cell_type": "markdown",
      "source": [
        "Método da Falsa Posição:\n",
        "---"
      ],
      "metadata": {
        "id": "s8Gb9vGtRh21"
      }
    },
    {
      "cell_type": "code",
      "source": [
        "def falsaPosicao(intervalo_p1, intervalo_p2):\n",
        "\n",
        "    x0 = intervalo_p1\n",
        "    x1 = intervalo_p2\n",
        "\n",
        "    ninteracoes = 0\n",
        "    parada = True\n",
        "    \n",
        "    while parada:\n",
        "        raiz = (x0 * funcao(x1) - x1 * funcao(x0))/ (funcao(x1) - funcao(x0))\n",
        "        ninteracoes = ninteracoes + 1\n",
        "\n",
        "        if funcao(x1) * funcao (raiz) < 0:\n",
        "            x0 = raiz\n",
        "\n",
        "        else:\n",
        "            x1 = raiz\n",
        "\n",
        "        parada = abs(funcao(raiz)) > erro\n",
        "\n",
        "    print('Raíz da função: {}'.format(raiz))"
      ],
      "metadata": {
        "id": "tUUJClblR22C"
      },
      "execution_count": null,
      "outputs": []
    },
    {
      "cell_type": "code",
      "source": [
        "falsaPosicao(2, 3)"
      ],
      "metadata": {
        "id": "rOQpJjwmnzv5",
        "outputId": "bc3c3c8c-62e5-4537-9225-bf23cb9c1d88",
        "colab": {
          "base_uri": "https://localhost:8080/"
        }
      },
      "execution_count": null,
      "outputs": [
        {
          "output_type": "stream",
          "name": "stdout",
          "text": [
            "Raíz da função: 2.506184026449166\n"
          ]
        }
      ]
    },
    {
      "cell_type": "markdown",
      "source": [
        "Método de Newton-Raphson:\n",
        "---"
      ],
      "metadata": {
        "id": "4h_P3RvrSg85"
      }
    },
    {
      "cell_type": "code",
      "source": [
        "def newtonRaphson (intervalo_p1, intervalo_p2):\n",
        "    \n",
        "    intervalo_pm = (intervalo_p1 + intervalo_p2)/ 2\n",
        "\n",
        "    ninteracoes = 0\n",
        "    parada = True\n",
        "  \n",
        "    while parada:\n",
        "       raiz = intervalo_pm - (funcao(intervalo_pm)/ derivada(intervalo_pm))\n",
        "       ninteracoes = ninteracoes + 1\n",
        "    \n",
        "       parada = abs(funcao(raiz)) < erro\n",
        "    \n",
        "    print('Raíz da função: {}'.format(raiz))"
      ],
      "metadata": {
        "id": "oYfWLAy9SgbL"
      },
      "execution_count": null,
      "outputs": []
    },
    {
      "cell_type": "code",
      "source": [
        "newtonRaphson(2, 3)"
      ],
      "metadata": {
        "id": "s8Usco2Nv0Jn",
        "colab": {
          "base_uri": "https://localhost:8080/"
        },
        "outputId": "8e0b3bfc-64e4-4b93-fd1c-b130300c7957"
      },
      "execution_count": null,
      "outputs": [
        {
          "output_type": "stream",
          "name": "stdout",
          "text": [
            "Raíz da função: 2.5061881337270053\n"
          ]
        }
      ]
    },
    {
      "cell_type": "markdown",
      "source": [
        "Método da Secante:\n",
        "---"
      ],
      "metadata": {
        "id": "LliwX-WVSo_1"
      }
    },
    {
      "cell_type": "code",
      "source": [
        "def secante(intervalo_p1, intervalo_p2):\n",
        "    \n",
        "    x0 = intervalo_p1\n",
        "    x1 = intervalo_p2\n",
        "\n",
        "    ninteracoes = 0\n",
        "    parada = True\n",
        "\n",
        "\n",
        "    while parada:\n",
        "       raiz = x0 - funcao(x0) * (x1 - x0)/ (funcao(x1) - funcao(x0))\n",
        "       ninteracoes = ninteracoes+ 1\n",
        "       \n",
        "       if funcao(raiz) == 0:\n",
        "         return raiz\n",
        "     \n",
        "       elif funcao(x0) * funcao(x1) < 0:\n",
        "          x0 = x0\n",
        "          x1 = raiz\n",
        "        \n",
        "       elif funcao(x1) * funcao(raiz) < 0:\n",
        "          x0 = raiz\n",
        "          x1 = x1\n",
        "        \n",
        "       else:\n",
        "          return None\n",
        "\n",
        "       parada = abs(funcao(raiz)) > erro\n",
        "\n",
        "       solucao = x0 - funcao(x0) * (x1 - x0)/ (funcao(x1) - funcao(x0))\n",
        "    \n",
        "\n",
        "    if funcao(intervalo_p1) * funcao(intervalo_p2) >= 0:\n",
        "        return None\n",
        "\n",
        "    print('Raíz da função: {}'.format(solucao))"
      ],
      "metadata": {
        "id": "JgU7f8Y3SpWq"
      },
      "execution_count": null,
      "outputs": []
    },
    {
      "cell_type": "code",
      "source": [
        "secante(2, 3)"
      ],
      "metadata": {
        "id": "_MrzAW4YYONG",
        "colab": {
          "base_uri": "https://localhost:8080/"
        },
        "outputId": "594249a3-c49d-4c3c-9c2f-c06c9d79f60f"
      },
      "execution_count": null,
      "outputs": [
        {
          "output_type": "stream",
          "name": "stdout",
          "text": [
            "Raíz da função: 2.5061841455886498\n"
          ]
        }
      ]
    },
    {
      "cell_type": "markdown",
      "source": [
        "#Questão 2: \n",
        "\n",
        "---\n",
        "\n"
      ],
      "metadata": {
        "id": "0dcKXt2kncs7"
      }
    },
    {
      "cell_type": "markdown",
      "source": [
        "Método da Bisseção:\n",
        "---\n",
        "\n"
      ],
      "metadata": {
        "id": "8BUlKjnp8Leq"
      }
    },
    {
      "cell_type": "code",
      "source": [
        "def bissecao(intervalo_p1, intervalo_p2) :\n",
        "\n",
        "    x0 = intervalo_p1\n",
        "    x1 = intervalo_p2\n",
        "\n",
        "    ninteracoes = 0\n",
        "    parada = True\n",
        "\n",
        "    while parada:\n",
        "        raiz = (x0 + x1)/2    \n",
        "        ninteracoes = ninteracoes + 1\n",
        "        \n",
        "        if funcao(raiz) == 0:\n",
        "            print(\"Solução única:\")\n",
        "            return raiz\n",
        "        \n",
        "        elif funcao(x0) * funcao(raiz) < 0:\n",
        "            x0 = x0\n",
        "            x1 = raiz\n",
        "       \n",
        "        elif funcao(x1) * funcao(raiz) < 0:\n",
        "            x0 = raiz\n",
        "            x1 = x1\n",
        "       \n",
        "        else:\n",
        "            return None\n",
        "\n",
        "        parada = abs(funcao(raiz)) > erro\n",
        "    \n",
        "        solucao = (x0 + x1) / 2\n",
        "\n",
        "\n",
        "    if funcao(intervalo_p1) * funcao(intervalo_p2) >= 0:\n",
        "        return None\n",
        "        \n",
        "\n",
        "    print('Número de interações: {} \\nRaíz da função: {} \\nFunção da raiz: {}'.format(ninteracoes, solucao, abs(funcao(solucao))))"
      ],
      "metadata": {
        "id": "fFUjivzs7kxq"
      },
      "execution_count": null,
      "outputs": []
    },
    {
      "cell_type": "code",
      "source": [
        "bissecao(2, 3)"
      ],
      "metadata": {
        "id": "uECTHuhGncYz",
        "colab": {
          "base_uri": "https://localhost:8080/"
        },
        "outputId": "903bab0b-0000-4f14-c38d-e5d4c73afeff"
      },
      "execution_count": null,
      "outputs": [
        {
          "output_type": "stream",
          "name": "stdout",
          "text": [
            "Número de interações: 21 \n",
            "Raíz da função: 2.5061843395233154 \n",
            "Função da raiz: 1.616071072518821e-07\n"
          ]
        }
      ]
    },
    {
      "cell_type": "markdown",
      "source": [
        "Método da Falsa Posição:\n",
        "---\n",
        "\n"
      ],
      "metadata": {
        "id": "WGg-dXrz8WSG"
      }
    },
    {
      "cell_type": "code",
      "source": [
        "def falsaPosicao(intervalo_p1, intervalo_p2):\n",
        "\n",
        "    x0 = intervalo_p1\n",
        "    x1 = intervalo_p2\n",
        "\n",
        "    ninteracoes = 0\n",
        "    parada = True\n",
        "    \n",
        "    while parada:\n",
        "        raiz = (x0 * funcao(x1) - x1 * funcao(x0))/ (funcao(x1) - funcao(x0))\n",
        "        ninteracoes = ninteracoes + 1\n",
        "\n",
        "        if funcao(x1) * funcao (raiz) < 0:\n",
        "            x0 = raiz\n",
        "\n",
        "        else:\n",
        "            x1 = raiz\n",
        "\n",
        "\n",
        "        solucao = raiz\n",
        "        parada = abs(funcao(raiz)) > erro\n",
        "\n",
        "    print('Número de interações: {} \\nRaíz da função: {} \\nFunção da raiz: {}'.format(ninteracoes, solucao, abs(funcao(solucao))))"
      ],
      "metadata": {
        "id": "3E-xrTpf8FGK"
      },
      "execution_count": null,
      "outputs": []
    },
    {
      "cell_type": "code",
      "source": [
        "falsaPosicao(2, 3)"
      ],
      "metadata": {
        "colab": {
          "base_uri": "https://localhost:8080/"
        },
        "id": "p-GZLe4H8dfs",
        "outputId": "d1c812a8-c64c-4cc8-a123-c17ca8796c10"
      },
      "execution_count": null,
      "outputs": [
        {
          "output_type": "stream",
          "name": "stdout",
          "text": [
            "Número de interações: 5 \n",
            "Raíz da função: 2.506184026449166 \n",
            "Função da raiz: 9.927991906355516e-08\n"
          ]
        }
      ]
    },
    {
      "cell_type": "markdown",
      "source": [
        "Método de Newton-Raphson:\n",
        "---\n",
        "\n"
      ],
      "metadata": {
        "id": "nNWhCS2e9FhY"
      }
    },
    {
      "cell_type": "code",
      "source": [
        "def newtonRaphson (intervalo_p1, intervalo_p2):\n",
        "    \n",
        "    intervalo_pm = (intervalo_p1 + intervalo_p2)/ 2\n",
        "\n",
        "    ninteracoes = 0\n",
        "    parada = True\n",
        "  \n",
        "    while parada:\n",
        "       raiz = intervalo_pm - (funcao(intervalo_pm)/ derivada(intervalo_pm))\n",
        "       ninteracoes = ninteracoes + 1\n",
        "\n",
        "\n",
        "       intervalo_pm = raiz\n",
        "       parada = abs(funcao(intervalo_pm)) > erro\n",
        "\n",
        "\n",
        "    print('Número de interações: {} \\nRaíz da função: {} \\nFunção da raiz: {}'.format(ninteracoes, intervalo_pm, abs(funcao(intervalo_pm))))"
      ],
      "metadata": {
        "id": "YKD2bOjD9OgU"
      },
      "execution_count": null,
      "outputs": []
    },
    {
      "cell_type": "code",
      "source": [
        "newtonRaphson(2, 3)"
      ],
      "metadata": {
        "colab": {
          "base_uri": "https://localhost:8080/"
        },
        "id": "Jbiu-UWh9cJF",
        "outputId": "5fc09e14-10ce-41aa-878b-9b8031ac84c1"
      },
      "execution_count": null,
      "outputs": [
        {
          "output_type": "stream",
          "name": "stdout",
          "text": [
            "Número de interações: 2 \n",
            "Raíz da função: 2.506184145590423 \n",
            "Função da raiz: 1.3780088181647443e-12\n"
          ]
        }
      ]
    },
    {
      "cell_type": "markdown",
      "source": [
        "Método da Secante:\n",
        "---\n",
        "\n"
      ],
      "metadata": {
        "id": "WhQlVZUm9gJo"
      }
    },
    {
      "cell_type": "code",
      "source": [
        "def secante(intervalo_p1, intervalo_p2):\n",
        "    \n",
        "    x0 = intervalo_p1\n",
        "    x1 = intervalo_p2\n",
        "\n",
        "    ninteracoes = 0\n",
        "    parada = True\n",
        "\n",
        "\n",
        "    while parada:\n",
        "       raiz = x0 - funcao(x0) * (x1 - x0)/ (funcao(x1) - funcao(x0))\n",
        "       ninteracoes = ninteracoes+ 1\n",
        "       \n",
        "       if funcao(raiz) == 0:\n",
        "         return raiz\n",
        "     \n",
        "       elif funcao(x0) * funcao(raiz) < 0:\n",
        "          x0 = x0\n",
        "          x1 = raiz\n",
        "        \n",
        "       elif funcao(x1) * funcao(raiz) < 0:\n",
        "          x0 = raiz\n",
        "          x1 = x1\n",
        "        \n",
        "       else:\n",
        "          return None\n",
        "\n",
        "       parada = abs(funcao(raiz)) > erro\n",
        "\n",
        "       solucao = x0 - funcao(x0) * (x1 - x0)/ (funcao(x1) - funcao(x0))\n",
        "    \n",
        "\n",
        "    if funcao(intervalo_p1) * funcao(intervalo_p2) >= 0:\n",
        "        return None\n",
        "\n",
        "    print('Número de interações: {} \\nRaíz da função: {} \\nFunção da raiz: {}'.format(ninteracoes, solucao, abs(funcao(solucao))))"
      ],
      "metadata": {
        "id": "HEAUBeHE9lJh"
      },
      "execution_count": null,
      "outputs": []
    },
    {
      "cell_type": "code",
      "source": [
        "secante(2, 3)"
      ],
      "metadata": {
        "colab": {
          "base_uri": "https://localhost:8080/"
        },
        "id": "i__l0HnF9tZJ",
        "outputId": "d0511c34-6b1c-4c8e-f17b-9649fffde86f"
      },
      "execution_count": null,
      "outputs": [
        {
          "output_type": "stream",
          "name": "stdout",
          "text": [
            "Número de interações: 5 \n",
            "Raíz da função: 2.5061841401026594 \n",
            "Função da raiz: 4.571616307735837e-09\n"
          ]
        }
      ]
    },
    {
      "cell_type": "markdown",
      "source": [
        "#Questão 3\n",
        "\n",
        "---\n",
        "\n"
      ],
      "metadata": {
        "id": "Jm2LSOOr-Pc3"
      }
    },
    {
      "cell_type": "markdown",
      "source": [
        "**Realizando o Método de Newton-Raphson manualmente:**\n",
        "\n",
        "https://drive.google.com/uc?export=view&id=1xVoyj8rdKGKUZf-tU3WmF24zmcurV2fw\n"
      ],
      "metadata": {
        "id": "sxRUuNr-oIdE"
      }
    },
    {
      "cell_type": "code",
      "source": [
        "def newtonRaphson (x0):\n",
        "    \n",
        "    ninteracoes = 0\n",
        "  \n",
        "    while ninteracoes < 4:\n",
        "\n",
        "       raiz = x0 - (funcao_questao3(x0)/ derivada_questao3(x0))\n",
        "       ninteracoes = ninteracoes + 1\n",
        "\n",
        "       x0 = raiz\n",
        "      \n",
        "       print('Número de interações: {} \\nRaíz da função: {}  \\nFunção da raíz: {}\\n\\n'.format(ninteracoes, x0, funcao_questao3(x0)))"
      ],
      "metadata": {
        "id": "hI5xdqdC-WEr"
      },
      "execution_count": null,
      "outputs": []
    },
    {
      "cell_type": "code",
      "source": [
        "newtonRaphson(1)"
      ],
      "metadata": {
        "colab": {
          "base_uri": "https://localhost:8080/"
        },
        "id": "nkqee6g9Azad",
        "outputId": "31af10cb-1595-4b41-b69c-fc9ae6c7c451"
      },
      "execution_count": null,
      "outputs": [
        {
          "output_type": "stream",
          "name": "stdout",
          "text": [
            "Número de interações: 1 \n",
            "Raíz da função: 0.0  \n",
            "Função da raíz: 2.0\n",
            "\n",
            "\n",
            "Número de interações: 2 \n",
            "Raíz da função: 1.0  \n",
            "Função da raíz: 1.0\n",
            "\n",
            "\n",
            "Número de interações: 3 \n",
            "Raíz da função: 0.0  \n",
            "Função da raíz: 2.0\n",
            "\n",
            "\n",
            "Número de interações: 4 \n",
            "Raíz da função: 1.0  \n",
            "Função da raíz: 1.0\n",
            "\n",
            "\n"
          ]
        }
      ]
    },
    {
      "cell_type": "markdown",
      "source": [
        "Nota-se que não há possibilidade de chegar em uma raíz para essa função a partir das informações fornecidas.\n",
        "\n",
        "Isso acontece porque a partir do método geramos um ciclo infinito (a função não converge), onde a raiz da função varia entre 0 e 1, respectivamente."
      ],
      "metadata": {
        "id": "JXAfDZY4oJUf"
      }
    },
    {
      "cell_type": "markdown",
      "source": [
        "#Questão 4:\n",
        "\n",
        "---\n",
        "\n"
      ],
      "metadata": {
        "id": "OSWTuH3Ow45F"
      }
    },
    {
      "cell_type": "markdown",
      "source": [
        "Resposta:\n",
        "---\n",
        "\n",
        "É possível, a partir das mudanças solicitadas pela questão, no método, encontrar a raiz do ítem 1.\n",
        "\n",
        "Demonstração abaixo:"
      ],
      "metadata": {
        "id": "beSWwhovU_Af"
      }
    },
    {
      "cell_type": "code",
      "source": [
        "def newtonRaphson (intervalo_p1, intervalo_p2):\n",
        "    \n",
        "    intervalo_pm = (intervalo_p1 + intervalo_p2)/ 2\n",
        "\n",
        "    ninteracoes = 0\n",
        "    parada = True\n",
        "  \n",
        "    while parada:\n",
        "       raiz = intervalo_pm - (funcao(intervalo_pm)/ derivada(intervalo_p1))\n",
        "       ninteracoes = ninteracoes + 1\n",
        "\n",
        "       intervalo_pm = raiz\n",
        "    \n",
        "       parada = abs(funcao(raiz)) < erro\n",
        "    \n",
        "    print('Número de interações: {} \\nRaíz da função: {}'.format(ninteracoes, intervalo_pm))"
      ],
      "metadata": {
        "id": "8IYw6VyM5k45"
      },
      "execution_count": null,
      "outputs": []
    },
    {
      "cell_type": "code",
      "source": [
        "newtonRaphson(2, 3)"
      ],
      "metadata": {
        "colab": {
          "base_uri": "https://localhost:8080/"
        },
        "id": "LjGCHITo5pNA",
        "outputId": "b85603b9-c57c-4ebd-a1b8-914873c7e3e1"
      },
      "execution_count": null,
      "outputs": [
        {
          "output_type": "stream",
          "name": "stdout",
          "text": [
            "Número de interações: 1 \n",
            "Raíz da função: 2.5070036813366317\n"
          ]
        }
      ]
    },
    {
      "cell_type": "markdown",
      "source": [
        "Resposta: \n",
        "---\n",
        "\n",
        "\n",
        "Podemos verificar no exemplo abaixo, assim como explicitado na questão 3, que, mesmo realizando as mudanças no método, solicitadas pela questão, o mesmo não converge para a raíz da função definida no exemplo.\n",
        "\n",
        "Demonstração:"
      ],
      "metadata": {
        "id": "HQVkeTHcVP8D"
      }
    },
    {
      "cell_type": "code",
      "source": [
        "def newtonRaphson (x0):\n",
        "    \n",
        "    ninteracoes = 0\n",
        "    x = x0\n",
        "  \n",
        "    while ninteracoes < 10:\n",
        "\n",
        "       raiz = x - (funcao_questao3(x)/ derivada_questao3(x0))\n",
        "       ninteracoes = ninteracoes + 1\n",
        "\n",
        "       x = raiz\n",
        "      \n",
        "       print('Número de interações: {} \\nRaíz da função: {}\\n\\n'.format(ninteracoes, x))"
      ],
      "metadata": {
        "id": "3T-xIEGpLR1h"
      },
      "execution_count": null,
      "outputs": []
    },
    {
      "cell_type": "code",
      "source": [
        "newtonRaphson(1)"
      ],
      "metadata": {
        "colab": {
          "base_uri": "https://localhost:8080/"
        },
        "id": "kWpdpmDALhIC",
        "outputId": "39b05264-d0a3-4563-ec09-d85417d842f3"
      },
      "execution_count": null,
      "outputs": [
        {
          "output_type": "stream",
          "name": "stdout",
          "text": [
            "Número de interações: 1 \n",
            "Raíz da função: 0.0\n",
            "\n",
            "\n",
            "Número de interações: 2 \n",
            "Raíz da função: -2.0\n",
            "\n",
            "\n",
            "Número de interações: 3 \n",
            "Raíz da função: 0.0\n",
            "\n",
            "\n",
            "Número de interações: 4 \n",
            "Raíz da função: -2.0\n",
            "\n",
            "\n",
            "Número de interações: 5 \n",
            "Raíz da função: 0.0\n",
            "\n",
            "\n",
            "Número de interações: 6 \n",
            "Raíz da função: -2.0\n",
            "\n",
            "\n",
            "Número de interações: 7 \n",
            "Raíz da função: 0.0\n",
            "\n",
            "\n",
            "Número de interações: 8 \n",
            "Raíz da função: -2.0\n",
            "\n",
            "\n",
            "Número de interações: 9 \n",
            "Raíz da função: 0.0\n",
            "\n",
            "\n",
            "Número de interações: 10 \n",
            "Raíz da função: -2.0\n",
            "\n",
            "\n"
          ]
        }
      ]
    },
    {
      "cell_type": "markdown",
      "source": [
        "Resposta: \n",
        "---\n",
        "\n",
        "\n",
        "Podemos verificar no exemplo abaixo, utilizando as mudanças no método, solicitadas pela questão, que há convergência para a raíz da função definida no exemplo.\n",
        "\n",
        "Demonstração:"
      ],
      "metadata": {
        "id": "XWxzxdXvVWaO"
      }
    },
    {
      "cell_type": "code",
      "source": [
        "def newtonRaphson (x0):\n",
        "    \n",
        "    ninteracoes = 0\n",
        "    x = x0\n",
        "\n",
        "    parada = True\n",
        "  \n",
        "    while parada:\n",
        "\n",
        "       raiz = x - (funcao_questao4(x)/ derivada_questao4(x0))\n",
        "       ninteracoes = ninteracoes + 1\n",
        "       x = raiz\n",
        "       parada = abs(funcao_questao4(x)) > erro\n",
        "      \n",
        "    print('Número de interações: {} \\nRaíz da função: {}'.format(ninteracoes, x))"
      ],
      "metadata": {
        "id": "KhKxqYxxPPdV"
      },
      "execution_count": null,
      "outputs": []
    },
    {
      "cell_type": "code",
      "source": [
        "newtonRaphson(2)"
      ],
      "metadata": {
        "colab": {
          "base_uri": "https://localhost:8080/"
        },
        "id": "fE7cnIsiP6EE",
        "outputId": "deee2840-de4b-4694-e494-959eee324aee"
      },
      "execution_count": null,
      "outputs": [
        {
          "output_type": "stream",
          "name": "stdout",
          "text": [
            "Número de interações: 8 \n",
            "Raíz da função: 1.732050820941883\n"
          ]
        }
      ]
    }
  ]
}