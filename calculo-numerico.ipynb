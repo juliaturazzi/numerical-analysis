{
  "nbformat": 4,
  "nbformat_minor": 0,
  "metadata": {
    "colab": {
      "name": "Cálculo Numérico.ipynb",
      "provenance": [],
      "collapsed_sections": []
    },
    "kernelspec": {
      "name": "python3",
      "display_name": "Python 3"
    },
    "language_info": {
      "name": "python"
    }
  },
  "cells": [
    {
      "cell_type": "markdown",
      "source": [
        "#Nome: Arthur Valls da Costa Silva - DRE: 120177470\n",
        "#Nome: Julia Turazzi Almeida - DRE: 120188861"
      ],
      "metadata": {
        "id": "qWsAkKNH2e_r"
      }
    },
    {
      "cell_type": "markdown",
      "source": [
        "# Questão 1)"
      ],
      "metadata": {
        "id": "x0IXC2i13P-z"
      }
    },
    {
      "cell_type": "code",
      "source": [
        "import numpy as np\n",
        "import matplotlib.pyplot as plt\n",
        "import seaborn as sns"
      ],
      "metadata": {
        "id": "5vdsB5P5dHrt"
      },
      "execution_count": null,
      "outputs": []
    },
    {
      "cell_type": "code",
      "execution_count": null,
      "metadata": {
        "id": "mo5cfnlxIHb7"
      },
      "outputs": [],
      "source": [
        "def f(x,y):\n",
        "    return -1.355*(y-25)"
      ]
    },
    {
      "cell_type": "code",
      "source": [
        "def euler(x0,y0,xn,n,h):\n",
        "\n",
        "    p1 = [x0]\n",
        "    p2 = [y0]\n",
        "    x = 0\n",
        "    xfinal = 15\n",
        "    while x < xfinal:\n",
        "      slope = f(x0, y0)\n",
        "      yn = y0 + h * slope\n",
        "      x1 = x + h\n",
        "      y0 = yn\n",
        "      x0 = x0+h\n",
        "      x = x1\n",
        "      p1.append(x0)\n",
        "      p2.append(y0)\n",
        "    \n",
        "    return p1, p2"
      ],
      "metadata": {
        "id": "Mg8Z_zx_IpXZ"
      },
      "execution_count": null,
      "outputs": []
    },
    {
      "cell_type": "code",
      "source": [
        "fig, ax = plt.subplots(figsize=(6,6))\n",
        "\n",
        "p1,p2 = euler(0, 6, 15, 15000, 0.01)\n",
        "\n",
        "ax.plot(p1,p2)\n",
        "plt.show()"
      ],
      "metadata": {
        "colab": {
          "base_uri": "https://localhost:8080/",
          "height": 374
        },
        "id": "LUgjWBGTKEsR",
        "outputId": "a71944aa-c942-44e9-d59c-17d66627bc81"
      },
      "execution_count": null,
      "outputs": [
        {
          "output_type": "display_data",
          "data": {
            "text/plain": [
              "<Figure size 432x432 with 1 Axes>"
            ],
            "image/png": "[encoded data removed]"
          },
          "metadata": {
            "needs_background": "light"
          }
        }
      ]
    },
    {
      "cell_type": "code",
      "source": [
        "def RK2(x0, y0, x, h, n):\n",
        "    n = round((x - x0) / h);\n",
        "    yn = y0;\n",
        "\n",
        "    p1 = [x0]\n",
        "    p2 = [y0]\n",
        "\n",
        "    for i in range(n):\n",
        "        k1 = h * f(x0, yn);\n",
        "        k2 = h * f(x0 + 0.5 * h, yn + 0.5 * k1);\n",
        "        \n",
        "        yn = yn + (1.0 / 6.0) * (k1 + 2 * k2);\n",
        "        \n",
        "        y0 = yn\n",
        "        x0 = x0 + h;\n",
        "    \n",
        "        p1.append(x0)\n",
        "        p2.append(yn)\n",
        "    \n",
        "    return p1, p2"
      ],
      "metadata": {
        "id": "rTFfgfcCNLKL"
      },
      "execution_count": null,
      "outputs": []
    },
    {
      "cell_type": "code",
      "source": [
        "fig, ax = plt.subplots(figsize=(6,6))\n",
        "\n",
        "p1,p2 = RK2(0, 6, 15, 0.01, 2000)\n",
        "\n",
        "ax.plot(p1,p2)\n",
        "plt.show()"
      ],
      "metadata": {
        "colab": {
          "base_uri": "https://localhost:8080/",
          "height": 374
        },
        "id": "ihe_g5g9U6n6",
        "outputId": "36e7cf5b-e9c8-4052-93a0-f13586bf393e"
      },
      "execution_count": null,
      "outputs": [
        {
          "output_type": "display_data",
          "data": {
            "text/plain": [
              "<Figure size 432x432 with 1 Axes>"
            ],
            "image/png": "[encoded data removed]"
          },
          "metadata": {
            "needs_background": "light"
          }
        }
      ]
    },
    {
      "cell_type": "code",
      "source": [
        "def RK4(x0, y0, x, h, n):\n",
        "\n",
        "    p1 = [x0]\n",
        "    p2 = [y0]\n",
        "\n",
        "    for i in range(n):\n",
        "        k1 = h * (f(x0, y0))\n",
        "        k2 = h * (f((x0+h/2), (y0+k1/2)))\n",
        "        k3 = h * (f((x0+h/2), (y0+k2/2)))\n",
        "        k4 = h * (f((x0+h), (y0+k3)))\n",
        "       \n",
        "        k = (k1+2*k2+2*k3+k4)/6\n",
        "        yn = y0 + k\n",
        "        \n",
        "        y0 = yn\n",
        "        x0 = x0+h\n",
        "\n",
        "        p1.append(x0)\n",
        "        p2.append(yn)\n",
        "    \n",
        "    return p1, p2"
      ],
      "metadata": {
        "id": "kyLYAU6KW-yr"
      },
      "execution_count": null,
      "outputs": []
    },
    {
      "cell_type": "code",
      "source": [
        "fig, ax = plt.subplots(figsize=(6,6))\n",
        "\n",
        "p1,p2 = RK4(0, 6, 15, 0.01, 2000)\n",
        "\n",
        "ax.plot(p1,p2)\n",
        "plt.show()"
      ],
      "metadata": {
        "colab": {
          "base_uri": "https://localhost:8080/",
          "height": 374
        },
        "id": "YhinPgWjYeMX",
        "outputId": "68dc96f9-2f2c-4e52-eb0b-463d78c4a7df"
      },
      "execution_count": null,
      "outputs": [
        {
          "output_type": "display_data",
          "data": {
            "text/plain": [
              "<Figure size 432x432 with 1 Axes>"
            ],
            "image/png": "[encoded data removed]"
          },
          "metadata": {
            "needs_background": "light"
          }
        }
      ]
    }
  ]
}